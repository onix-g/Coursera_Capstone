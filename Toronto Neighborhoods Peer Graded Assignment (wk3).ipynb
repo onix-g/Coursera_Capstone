{
    "nbformat_minor": 1, 
    "cells": [
        {
            "source": "# Toronto Neighborhoods\n\nTask: Scrape the following Wikipedia page into a dataframe: https://en.wikipedia.org/wiki/List_of_postal_codes_of_Canada:_M \n    \n       The dataframe will consist of three columns: PostalCode, Borough, and Neighborhood\n       Ignore cells with a borough that is Not assigned\n       More than one neighborhood can exist in one postal code area - combine them into one row with the neighborhoods separated with a comma\n       If a cell has a borough but a Not assigned neighborhood, then the neighborhood will be the same as the borough\n       In the last cell of your notebook, use the .shape method to print the number of rows of your dataframe.\n       Submit a link to your Notebook on your Github repository. ", 
            "cell_type": "markdown", 
            "metadata": {
                "collapsed": true
            }
        }, 
        {
            "execution_count": 2, 
            "cell_type": "code", 
            "metadata": {}, 
            "outputs": [], 
            "source": "#import required libraries for the lab\nimport pandas as pd\nimport requests\nfrom bs4 import BeautifulSoup\nimport lxml"
        }, 
        {
            "execution_count": 18, 
            "cell_type": "code", 
            "metadata": {}, 
            "outputs": [], 
            "source": "#acquire content from postal codes page from wikipedia\nwkpdia_pg_url = \"https://en.wikipedia.org/wiki/List_of_postal_codes_of_Canada:_M\"\nwkpg_content = requests.get(wkpdia_pg_url).text\n#create bs object for parsing with lxml\nwkpg4_parsing = BeautifulSoup(wkpedia_pg_content,'lxml')\n# capture the postcode table\nwkpg_postcodes = wkpg4_parsing.find('table',class_='wikitable')"
        }, 
        {
            "execution_count": 104, 
            "cell_type": "code", 
            "metadata": {}, 
            "outputs": [], 
            "source": "first_iter=True\nfor tablerow in wkpg_postcodes.find_all('tr'):\n    if first_iter:\n        #init the pandas dataframe\n        #first entry in table is the column names\n        column_names = tablerow.text.split('\\n')[1:-1]\n        CanPCodes = pd.DataFrame(columns=column_names)\n        first_iter = False\n    elif tablerow.text.split('\\n')[2]=='Not assigned':\n        #ignore the row if borough is not assigned\n        continue\n    elif tablerow.text.split('\\n')[3]=='Not assigned':\n        # if neighborhood is not assigned, take on the name of borough\n        modifyrow = tablerow.text.split('\\n')[1:-1]\n        modifyrow[-1] = modifyrow[1]\n        CanPCodes = CanPCodes.append({'Postcode':modifyrow[0],'Borough':modifyrow[1],'Neighbourhood':modifyrow[2]},ignore_index=True)\n    else:\n        PostCode_row = tablerow.text.split('\\n')[1:-1]\n        CanPCodes = CanPCodes.append({'Postcode':PostCode_row[0],'Borough':PostCode_row[1],'Neighbourhood':PostCode_row[2]},ignore_index=True)"
        }, 
        {
            "execution_count": 105, 
            "cell_type": "code", 
            "metadata": {}, 
            "outputs": [], 
            "source": "#group by postcode, bourough, and aggregate neighborhoods splitting with commas\nCanPCSeries=CanPCodes.groupby(['Postcode','Borough']).Neighbourhood.agg(', '.join)\nCanPCodes = Candf.to_frame()"
        }, 
        {
            "execution_count": 112, 
            "cell_type": "code", 
            "metadata": {}, 
            "outputs": [
                {
                    "execution_count": 112, 
                    "metadata": {}, 
                    "data": {
                        "text/html": "<div>\n<style scoped>\n    .dataframe tbody tr th:only-of-type {\n        vertical-align: middle;\n    }\n\n    .dataframe tbody tr th {\n        vertical-align: top;\n    }\n\n    .dataframe thead th {\n        text-align: right;\n    }\n</style>\n<table border=\"1\" class=\"dataframe\">\n  <thead>\n    <tr style=\"text-align: right;\">\n      <th></th>\n      <th></th>\n      <th>Neighbourhood</th>\n    </tr>\n    <tr>\n      <th>Postcode</th>\n      <th>Borough</th>\n      <th></th>\n    </tr>\n  </thead>\n  <tbody>\n    <tr>\n      <th>M1B</th>\n      <th>Scarborough</th>\n      <td>Rouge, Malvern</td>\n    </tr>\n    <tr>\n      <th>M1C</th>\n      <th>Scarborough</th>\n      <td>Highland Creek, Rouge Hill, Port Union</td>\n    </tr>\n    <tr>\n      <th>M1E</th>\n      <th>Scarborough</th>\n      <td>Guildwood, Morningside, West Hill</td>\n    </tr>\n    <tr>\n      <th>M1G</th>\n      <th>Scarborough</th>\n      <td>Woburn</td>\n    </tr>\n    <tr>\n      <th>M1H</th>\n      <th>Scarborough</th>\n      <td>Cedarbrae</td>\n    </tr>\n    <tr>\n      <th>M1J</th>\n      <th>Scarborough</th>\n      <td>Scarborough Village</td>\n    </tr>\n    <tr>\n      <th>M1K</th>\n      <th>Scarborough</th>\n      <td>East Birchmount Park, Ionview, Kennedy Park</td>\n    </tr>\n    <tr>\n      <th>M1L</th>\n      <th>Scarborough</th>\n      <td>Clairlea, Golden Mile, Oakridge</td>\n    </tr>\n    <tr>\n      <th>M1M</th>\n      <th>Scarborough</th>\n      <td>Cliffcrest, Cliffside, Scarborough Village West</td>\n    </tr>\n    <tr>\n      <th>M1N</th>\n      <th>Scarborough</th>\n      <td>Birch Cliff, Cliffside West</td>\n    </tr>\n    <tr>\n      <th>M1P</th>\n      <th>Scarborough</th>\n      <td>Dorset Park, Scarborough Town Centre, Wexford ...</td>\n    </tr>\n    <tr>\n      <th>M1R</th>\n      <th>Scarborough</th>\n      <td>Maryvale, Wexford</td>\n    </tr>\n    <tr>\n      <th>M1S</th>\n      <th>Scarborough</th>\n      <td>Agincourt</td>\n    </tr>\n    <tr>\n      <th>M1T</th>\n      <th>Scarborough</th>\n      <td>Clarks Corners, Sullivan, Tam O'Shanter</td>\n    </tr>\n    <tr>\n      <th>M1V</th>\n      <th>Scarborough</th>\n      <td>Agincourt North, L'Amoreaux East, Milliken, St...</td>\n    </tr>\n    <tr>\n      <th>M1W</th>\n      <th>Scarborough</th>\n      <td>L'Amoreaux West, Steeles West</td>\n    </tr>\n    <tr>\n      <th>M1X</th>\n      <th>Scarborough</th>\n      <td>Upper Rouge</td>\n    </tr>\n    <tr>\n      <th>M2H</th>\n      <th>North York</th>\n      <td>Hillcrest Village</td>\n    </tr>\n    <tr>\n      <th>M2J</th>\n      <th>North York</th>\n      <td>Fairview, Henry Farm, Oriole</td>\n    </tr>\n    <tr>\n      <th>M2K</th>\n      <th>North York</th>\n      <td>Bayview Village</td>\n    </tr>\n    <tr>\n      <th>M2L</th>\n      <th>North York</th>\n      <td>Silver Hills, York Mills</td>\n    </tr>\n    <tr>\n      <th>M2M</th>\n      <th>North York</th>\n      <td>Newtonbrook, Willowdale</td>\n    </tr>\n    <tr>\n      <th>M2N</th>\n      <th>North York</th>\n      <td>Willowdale South</td>\n    </tr>\n    <tr>\n      <th>M2P</th>\n      <th>North York</th>\n      <td>York Mills West</td>\n    </tr>\n    <tr>\n      <th>M2R</th>\n      <th>North York</th>\n      <td>Willowdale West</td>\n    </tr>\n    <tr>\n      <th>M3A</th>\n      <th>North York</th>\n      <td>Parkwoods</td>\n    </tr>\n    <tr>\n      <th>M3B</th>\n      <th>North York</th>\n      <td>Don Mills North</td>\n    </tr>\n    <tr>\n      <th>M3C</th>\n      <th>North York</th>\n      <td>Flemingdon Park, Don Mills South</td>\n    </tr>\n    <tr>\n      <th>M3H</th>\n      <th>North York</th>\n      <td>Bathurst Manor, Downsview North, Wilson Heights</td>\n    </tr>\n    <tr>\n      <th>M3J</th>\n      <th>North York</th>\n      <td>Northwood Park, York University</td>\n    </tr>\n    <tr>\n      <th>...</th>\n      <th>...</th>\n      <td>...</td>\n    </tr>\n    <tr>\n      <th>M6C</th>\n      <th>York</th>\n      <td>Humewood-Cedarvale</td>\n    </tr>\n    <tr>\n      <th>M6E</th>\n      <th>York</th>\n      <td>Caledonia-Fairbanks</td>\n    </tr>\n    <tr>\n      <th>M6G</th>\n      <th>Downtown Toronto</th>\n      <td>Christie</td>\n    </tr>\n    <tr>\n      <th>M6H</th>\n      <th>West Toronto</th>\n      <td>Dovercourt Village, Dufferin</td>\n    </tr>\n    <tr>\n      <th>M6J</th>\n      <th>West Toronto</th>\n      <td>Little Portugal, Trinity</td>\n    </tr>\n    <tr>\n      <th>M6K</th>\n      <th>West Toronto</th>\n      <td>Brockton, Exhibition Place, Parkdale Village</td>\n    </tr>\n    <tr>\n      <th>M6L</th>\n      <th>North York</th>\n      <td>Maple Leaf Park, North Park, Upwood Park</td>\n    </tr>\n    <tr>\n      <th>M6M</th>\n      <th>York</th>\n      <td>Del Ray, Keelesdale, Mount Dennis, Silverthorn</td>\n    </tr>\n    <tr>\n      <th>M6N</th>\n      <th>York</th>\n      <td>The Junction North, Runnymede</td>\n    </tr>\n    <tr>\n      <th>M6P</th>\n      <th>West Toronto</th>\n      <td>High Park, The Junction South</td>\n    </tr>\n    <tr>\n      <th>M6R</th>\n      <th>West Toronto</th>\n      <td>Parkdale, Roncesvalles</td>\n    </tr>\n    <tr>\n      <th>M6S</th>\n      <th>West Toronto</th>\n      <td>Runnymede, Swansea</td>\n    </tr>\n    <tr>\n      <th>M7A</th>\n      <th>Queen's Park</th>\n      <td>Queen's Park</td>\n    </tr>\n    <tr>\n      <th>M7R</th>\n      <th>Mississauga</th>\n      <td>Canada Post Gateway Processing Centre</td>\n    </tr>\n    <tr>\n      <th>M7Y</th>\n      <th>East Toronto</th>\n      <td>Business Reply Mail Processing Centre 969 Eastern</td>\n    </tr>\n    <tr>\n      <th>M8V</th>\n      <th>Etobicoke</th>\n      <td>Humber Bay Shores, Mimico South, New Toronto</td>\n    </tr>\n    <tr>\n      <th>M8W</th>\n      <th>Etobicoke</th>\n      <td>Alderwood, Long Branch</td>\n    </tr>\n    <tr>\n      <th>M8X</th>\n      <th>Etobicoke</th>\n      <td>The Kingsway, Montgomery Road, Old Mill North</td>\n    </tr>\n    <tr>\n      <th>M8Y</th>\n      <th>Etobicoke</th>\n      <td>Humber Bay, King's Mill Park, Kingsway Park So...</td>\n    </tr>\n    <tr>\n      <th>M8Z</th>\n      <th>Etobicoke</th>\n      <td>Kingsway Park South West, Mimico NW, The Queen...</td>\n    </tr>\n    <tr>\n      <th>M9A</th>\n      <th>Etobicoke</th>\n      <td>Islington Avenue</td>\n    </tr>\n    <tr>\n      <th>M9B</th>\n      <th>Etobicoke</th>\n      <td>Cloverdale, Islington, Martin Grove, Princess ...</td>\n    </tr>\n    <tr>\n      <th>M9C</th>\n      <th>Etobicoke</th>\n      <td>Bloordale Gardens, Eringate, Markland Wood, Ol...</td>\n    </tr>\n    <tr>\n      <th>M9L</th>\n      <th>North York</th>\n      <td>Humber Summit</td>\n    </tr>\n    <tr>\n      <th>M9M</th>\n      <th>North York</th>\n      <td>Emery, Humberlea</td>\n    </tr>\n    <tr>\n      <th>M9N</th>\n      <th>York</th>\n      <td>Weston</td>\n    </tr>\n    <tr>\n      <th>M9P</th>\n      <th>Etobicoke</th>\n      <td>Westmount</td>\n    </tr>\n    <tr>\n      <th>M9R</th>\n      <th>Etobicoke</th>\n      <td>Kingsview Village, Martin Grove Gardens, Richv...</td>\n    </tr>\n    <tr>\n      <th>M9V</th>\n      <th>Etobicoke</th>\n      <td>Albion Gardens, Beaumond Heights, Humbergate, ...</td>\n    </tr>\n    <tr>\n      <th>M9W</th>\n      <th>Etobicoke</th>\n      <td>Northwest</td>\n    </tr>\n  </tbody>\n</table>\n<p>103 rows \u00d7 1 columns</p>\n</div>", 
                        "text/plain": "                                                               Neighbourhood\nPostcode Borough                                                            \nM1B      Scarborough                                          Rouge, Malvern\nM1C      Scarborough                  Highland Creek, Rouge Hill, Port Union\nM1E      Scarborough                       Guildwood, Morningside, West Hill\nM1G      Scarborough                                                  Woburn\nM1H      Scarborough                                               Cedarbrae\nM1J      Scarborough                                     Scarborough Village\nM1K      Scarborough             East Birchmount Park, Ionview, Kennedy Park\nM1L      Scarborough                         Clairlea, Golden Mile, Oakridge\nM1M      Scarborough         Cliffcrest, Cliffside, Scarborough Village West\nM1N      Scarborough                             Birch Cliff, Cliffside West\nM1P      Scarborough       Dorset Park, Scarborough Town Centre, Wexford ...\nM1R      Scarborough                                       Maryvale, Wexford\nM1S      Scarborough                                               Agincourt\nM1T      Scarborough                 Clarks Corners, Sullivan, Tam O'Shanter\nM1V      Scarborough       Agincourt North, L'Amoreaux East, Milliken, St...\nM1W      Scarborough                           L'Amoreaux West, Steeles West\nM1X      Scarborough                                             Upper Rouge\nM2H      North York                                        Hillcrest Village\nM2J      North York                             Fairview, Henry Farm, Oriole\nM2K      North York                                          Bayview Village\nM2L      North York                                 Silver Hills, York Mills\nM2M      North York                                  Newtonbrook, Willowdale\nM2N      North York                                         Willowdale South\nM2P      North York                                          York Mills West\nM2R      North York                                          Willowdale West\nM3A      North York                                                Parkwoods\nM3B      North York                                          Don Mills North\nM3C      North York                         Flemingdon Park, Don Mills South\nM3H      North York          Bathurst Manor, Downsview North, Wilson Heights\nM3J      North York                          Northwood Park, York University\n...                                                                      ...\nM6C      York                                             Humewood-Cedarvale\nM6E      York                                            Caledonia-Fairbanks\nM6G      Downtown Toronto                                           Christie\nM6H      West Toronto                           Dovercourt Village, Dufferin\nM6J      West Toronto                               Little Portugal, Trinity\nM6K      West Toronto           Brockton, Exhibition Place, Parkdale Village\nM6L      North York                 Maple Leaf Park, North Park, Upwood Park\nM6M      York                 Del Ray, Keelesdale, Mount Dennis, Silverthorn\nM6N      York                                  The Junction North, Runnymede\nM6P      West Toronto                          High Park, The Junction South\nM6R      West Toronto                                 Parkdale, Roncesvalles\nM6S      West Toronto                                     Runnymede, Swansea\nM7A      Queen's Park                                           Queen's Park\nM7R      Mississauga                   Canada Post Gateway Processing Centre\nM7Y      East Toronto      Business Reply Mail Processing Centre 969 Eastern\nM8V      Etobicoke              Humber Bay Shores, Mimico South, New Toronto\nM8W      Etobicoke                                    Alderwood, Long Branch\nM8X      Etobicoke             The Kingsway, Montgomery Road, Old Mill North\nM8Y      Etobicoke         Humber Bay, King's Mill Park, Kingsway Park So...\nM8Z      Etobicoke         Kingsway Park South West, Mimico NW, The Queen...\nM9A      Etobicoke                                          Islington Avenue\nM9B      Etobicoke         Cloverdale, Islington, Martin Grove, Princess ...\nM9C      Etobicoke         Bloordale Gardens, Eringate, Markland Wood, Ol...\nM9L      North York                                            Humber Summit\nM9M      North York                                         Emery, Humberlea\nM9N      York                                                         Weston\nM9P      Etobicoke                                                 Westmount\nM9R      Etobicoke         Kingsview Village, Martin Grove Gardens, Richv...\nM9V      Etobicoke         Albion Gardens, Beaumond Heights, Humbergate, ...\nM9W      Etobicoke                                                 Northwest\n\n[103 rows x 1 columns]"
                    }, 
                    "output_type": "execute_result"
                }
            ], 
            "source": "CanPCodes"
        }, 
        {
            "execution_count": 114, 
            "cell_type": "code", 
            "metadata": {}, 
            "outputs": [
                {
                    "execution_count": 114, 
                    "metadata": {}, 
                    "data": {
                        "text/plain": "(103, 1)"
                    }, 
                    "output_type": "execute_result"
                }
            ], 
            "source": "CanPCodes.shape"
        }
    ], 
    "metadata": {
        "kernelspec": {
            "display_name": "Python 3.5", 
            "name": "python3", 
            "language": "python"
        }, 
        "language_info": {
            "mimetype": "text/x-python", 
            "nbconvert_exporter": "python", 
            "version": "3.5.5", 
            "name": "python", 
            "file_extension": ".py", 
            "pygments_lexer": "ipython3", 
            "codemirror_mode": {
                "version": 3, 
                "name": "ipython"
            }
        }
    }, 
    "nbformat": 4
}