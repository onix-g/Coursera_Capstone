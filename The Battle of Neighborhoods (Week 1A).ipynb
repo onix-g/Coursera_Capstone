{
    "nbformat_minor": 1, 
    "cells": [
        {
            "source": "# Capstone Project: The Battle of the Neighborhoods - Week 1A\n## Introduction/Business Problem\n\nDefine the problem of your choice\n", 
            "cell_type": "markdown", 
            "metadata": {
                "collapsed": true
            }
        }, 
        {
            "source": "__Target Audience:__ A home owner that is considering a move to a city closer to his/her place of work. But does not want to move to a city that will lack amenities curently available in the home owner's city.\n\n__Problem to Solve:__ Comparing potential cities to move to, the home owner would like to find those cities within a desired radius (say 5 to 15 miles) of the workplace that have a similar profile to their current residence city. The home and candiate cities will be profiled (with Foursquare location data) and a measure of similarity will be created to help with the comparison. Other APIs and data sources will be used as well to help rank these candidate cities in terms of their amenities and outlook for price appreciation. The cities will be mapped and clustered based on these attributes and desired radius from the work city.\n\n__Why the target audience would care:__ Since moving can be a costly event, the home owner would like to know that the chosen city to move to will be a good decision in terms of quality of life, and in terms of monetary investment and the return on this investment.\n", 
            "cell_type": "markdown", 
            "metadata": {}
        }, 
        {
            "execution_count": null, 
            "cell_type": "code", 
            "metadata": {}, 
            "outputs": [], 
            "source": ""
        }
    ], 
    "metadata": {
        "kernelspec": {
            "display_name": "Python 3.5", 
            "name": "python3", 
            "language": "python"
        }, 
        "language_info": {
            "mimetype": "text/x-python", 
            "nbconvert_exporter": "python", 
            "version": "3.5.5", 
            "name": "python", 
            "file_extension": ".py", 
            "pygments_lexer": "ipython3", 
            "codemirror_mode": {
                "version": 3, 
                "name": "ipython"
            }
        }
    }, 
    "nbformat": 4
}