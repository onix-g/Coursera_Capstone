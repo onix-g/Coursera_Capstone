{
    "nbformat_minor": 1, 
    "cells": [
        {
            "source": "# Capstone Project: The Battle of the Neighborhoods - Week 1B\n## Data Section\n\nDescribe the data that you will be using to solve the problem.\n", 
            "cell_type": "markdown", 
            "metadata": {
                "collapsed": true
            }
        }, 
        {
            "source": "## Data Sources \n\n### 1. Foursquare API:\nFound in https://developer.foursquare.com/ <br>\nAPI will be used to gather venue names, location and categories for each city within the selected radius from the work city. <br>\nThese attributes will be used to determine similarity across the home and candidate cities within the desired radius from the work city.\n\n### 2. Zillow Home Values Forecast Data Set: \nFound in https://www.zillow.com/research/data/ <br>\n__File Name:__ AllRegionsForePublic.csv <br>\n__File Format:__ Region, RegionName, StateName, MSAName, CountyName, CityName, ForecastYoYPctChange <br>\n__Data Usage Description:__ ForecastYoYPctChange will be added to the city ranking with preference given <br> \nto higher forcasted pct change. One could argue that moving to a city with an expected increase <br>\nin home values will be a good investment in the long run.\n\n### 3. Water Quality Monitoring Council Data Set:\nFound in https://www.waterqualitydata.us/portal/ <br>\n__File Names:__ result.csv & station.csv <br>\n__File Formats:__ <br>\na) result.csv - has more than 60 fields. Fields used will be CharacteristicName = pH, ResultMeasureValue, and MonitoringLocationIdentifier <br>\nb) station.csv - has more than 30 fields. Fields used will be MonitoringLocationIdentifier, LatitudeMeasure and LongitudeMeasure <br>\n__Data Usage Description:__ Data from National Water Quality Monitoring Council will be used to gather Water Quality Data and add to the city profiles. <br> \nIn partifular the measured pH levels as pH is quite an important measurement of water quality. The pH of water can indirectly affect health. pH ranges <br>\nfrom 0 to 14, with 7 being neutral. pHs less than 7 are acidic while pHs greater than 7 are alkaline. Water with acidic pH levels can corrode plumbing <br> \nand leach metal. Iron, manganese, copper, lead and zinc are commonly found in acidic water. <br>\n__No one would want to drink water with high levels of these metals!__\n\n### 4. Walkscore API:\nFound in https://www.walkscore.com/professional/api-sign-up.php <br>\nAPI will be used to extract the WalkScore of the cities, with preference to those with higher scores. <br>\n\nThe score is defined as: <br>\n90\u2013100 \tWalker\u2019s Paradise - Daily errands do not require a car <br>\n70\u201389 \tVery Walkable - Most errands can be accomplished on foot <br>\n50\u201369 \tSomewhat Walkable - Some errands can be accomplished on foot <br>\n25\u201349 \tCar-Dependent - Most errands require a car <br>\n0\u201324 \tCar-Dependent - Almost all errands require a car\n", 
            "cell_type": "markdown", 
            "metadata": {}
        }, 
        {
            "execution_count": null, 
            "cell_type": "code", 
            "metadata": {}, 
            "outputs": [], 
            "source": ""
        }
    ], 
    "metadata": {
        "kernelspec": {
            "display_name": "Python 3.5", 
            "name": "python3", 
            "language": "python"
        }, 
        "language_info": {
            "mimetype": "text/x-python", 
            "nbconvert_exporter": "python", 
            "version": "3.5.5", 
            "name": "python", 
            "file_extension": ".py", 
            "pygments_lexer": "ipython3", 
            "codemirror_mode": {
                "version": 3, 
                "name": "ipython"
            }
        }
    }, 
    "nbformat": 4
}