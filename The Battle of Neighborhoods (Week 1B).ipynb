{
    "nbformat_minor": 1, 
    "cells": [
        {
            "source": "# Capstone Project: The Battle of the Neighborhoods - Week 1B\n## Data Section\n\nDescribe the data that you will be using to solve the problem.\n", 
            "cell_type": "markdown", 
            "metadata": {
                "collapsed": true
            }
        }, 
        {
            "source": "## Data Sources \n\n### 1. Foursquare API:\n    Found in https://developer.foursquare.com/\n    API will be used to gather venue names, location and categories for each city within the selected \n    radius from the work city. These attributes will be used to determine similarity across the home \n    and candidate cities within the desired radius from the work city.\n\n### 2. Zillow Home Values Forecast Data Set: \n    Found in https://www.zillow.com/research/data/\n    File Name: AllRegionsForePublic.csv\n    File Format: Region, RegionName, StateName, MSAName, CountyName, CityName, ForecastYoYPctChange\n    Data Usage Description: ForecastYoYPctChange will be added to the city ranking with preference given \n    to higher forcasted pct change. One could argue that moving to a city with an expected increase \n    in home values will be a good investment in the long run.\n\n### 3. Water Quality Monitoring Council Data Set:\n    Found in https://www.waterqualitydata.us/portal/\n    File Names: result.csv & station.csv\n    File Formats:\n    a) result.csv - has more than 60 fields. Fields used will be CharacteristicName = pH, ResultMeasureValue, and MonitoringLocationIdentifier\n    b) station.csv - has more than 30 fields. Fields used will be MonitoringLocationIdentifier, LatitudeMeasure and LongitudeMeasure\t\n\n    Data Usage Description: Data from National Water Quality Monitoring Council will be used to gather \n    Water Quality Data and add to the city profiles. In partifular the measured pH levels as pH is quite \n    an important measurement of water quality. The pH of water can indirectly affect health. pH ranges \n    from 0 to 14, with 7 being neutral. pHs less than 7 are acidic while pHs greater than 7 are alkaline. \n    Water with acidic pH levels can corrode plumbing and leach metal. Iron, manganese, copper, lead and \n    zinc are commonly found in acidic water. No one would want to drink water with high levels of these metals!\n\n### 4. Walkscore API:\n    Found in https://www.walkscore.com/professional/api-sign-up.php\n    API will be used to extract the WalkScore of the cities, with preference to those with higher scores.\n    The score is defined as:\n        90\u2013100 \tWalker\u2019s Paradise - Daily errands do not require a car\n        70\u201389 \tVery Walkable - Most errands can be accomplished on foot\n        50\u201369 \tSomewhat Walkable - Some errands can be accomplished on foot\n        25\u201349 \tCar-Dependent - Most errands require a car\n        0\u201324 \tCar-Dependent - Almost all errands require a car\n\n", 
            "cell_type": "markdown", 
            "metadata": {}
        }, 
        {
            "execution_count": null, 
            "cell_type": "code", 
            "metadata": {}, 
            "outputs": [], 
            "source": ""
        }
    ], 
    "metadata": {
        "kernelspec": {
            "display_name": "Python 3.5", 
            "name": "python3", 
            "language": "python"
        }, 
        "language_info": {
            "mimetype": "text/x-python", 
            "nbconvert_exporter": "python", 
            "version": "3.5.5", 
            "name": "python", 
            "file_extension": ".py", 
            "pygments_lexer": "ipython3", 
            "codemirror_mode": {
                "version": 3, 
                "name": "ipython"
            }
        }
    }, 
    "nbformat": 4
}